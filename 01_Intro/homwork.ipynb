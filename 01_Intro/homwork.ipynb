{
 "cells": [
  {
   "cell_type": "code",
   "execution_count": 19,
   "id": "6d03f5c9",
   "metadata": {},
   "outputs": [],
   "source": [
    "import pandas  as pd\n",
    "import numpy as np"
   ]
  },
  {
   "cell_type": "code",
   "execution_count": 3,
   "id": "c1281dab",
   "metadata": {},
   "outputs": [
    {
     "data": {
      "text/plain": [
       "'2.3.2'"
      ]
     },
     "execution_count": 3,
     "metadata": {},
     "output_type": "execute_result"
    }
   ],
   "source": [
    "pd.__version__"
   ]
  },
  {
   "cell_type": "code",
   "execution_count": 6,
   "id": "024e4731",
   "metadata": {},
   "outputs": [
    {
     "data": {
      "text/html": [
       "<div>\n",
       "<style scoped>\n",
       "    .dataframe tbody tr th:only-of-type {\n",
       "        vertical-align: middle;\n",
       "    }\n",
       "\n",
       "    .dataframe tbody tr th {\n",
       "        vertical-align: top;\n",
       "    }\n",
       "\n",
       "    .dataframe thead th {\n",
       "        text-align: right;\n",
       "    }\n",
       "</style>\n",
       "<table border=\"1\" class=\"dataframe\">\n",
       "  <thead>\n",
       "    <tr style=\"text-align: right;\">\n",
       "      <th></th>\n",
       "      <th>engine_displacement</th>\n",
       "      <th>num_cylinders</th>\n",
       "      <th>horsepower</th>\n",
       "      <th>vehicle_weight</th>\n",
       "      <th>acceleration</th>\n",
       "      <th>model_year</th>\n",
       "      <th>num_doors</th>\n",
       "      <th>fuel_efficiency_mpg</th>\n",
       "    </tr>\n",
       "  </thead>\n",
       "  <tbody>\n",
       "    <tr>\n",
       "      <th>count</th>\n",
       "      <td>9704.000000</td>\n",
       "      <td>9222.000000</td>\n",
       "      <td>8996.000000</td>\n",
       "      <td>9704.000000</td>\n",
       "      <td>8774.000000</td>\n",
       "      <td>9704.000000</td>\n",
       "      <td>9202.000000</td>\n",
       "      <td>9704.000000</td>\n",
       "    </tr>\n",
       "    <tr>\n",
       "      <th>mean</th>\n",
       "      <td>199.708368</td>\n",
       "      <td>3.962481</td>\n",
       "      <td>149.657292</td>\n",
       "      <td>3001.280993</td>\n",
       "      <td>15.021928</td>\n",
       "      <td>2011.484027</td>\n",
       "      <td>-0.006412</td>\n",
       "      <td>14.985243</td>\n",
       "    </tr>\n",
       "    <tr>\n",
       "      <th>std</th>\n",
       "      <td>49.455319</td>\n",
       "      <td>1.999323</td>\n",
       "      <td>29.879555</td>\n",
       "      <td>497.894860</td>\n",
       "      <td>2.510339</td>\n",
       "      <td>6.659808</td>\n",
       "      <td>1.048162</td>\n",
       "      <td>2.556468</td>\n",
       "    </tr>\n",
       "    <tr>\n",
       "      <th>min</th>\n",
       "      <td>10.000000</td>\n",
       "      <td>0.000000</td>\n",
       "      <td>37.000000</td>\n",
       "      <td>952.681761</td>\n",
       "      <td>6.000000</td>\n",
       "      <td>2000.000000</td>\n",
       "      <td>-4.000000</td>\n",
       "      <td>6.200971</td>\n",
       "    </tr>\n",
       "    <tr>\n",
       "      <th>25%</th>\n",
       "      <td>170.000000</td>\n",
       "      <td>3.000000</td>\n",
       "      <td>130.000000</td>\n",
       "      <td>2666.248985</td>\n",
       "      <td>13.300000</td>\n",
       "      <td>2006.000000</td>\n",
       "      <td>-1.000000</td>\n",
       "      <td>13.267459</td>\n",
       "    </tr>\n",
       "    <tr>\n",
       "      <th>50%</th>\n",
       "      <td>200.000000</td>\n",
       "      <td>4.000000</td>\n",
       "      <td>149.000000</td>\n",
       "      <td>2993.226296</td>\n",
       "      <td>15.000000</td>\n",
       "      <td>2012.000000</td>\n",
       "      <td>0.000000</td>\n",
       "      <td>15.006037</td>\n",
       "    </tr>\n",
       "    <tr>\n",
       "      <th>75%</th>\n",
       "      <td>230.000000</td>\n",
       "      <td>5.000000</td>\n",
       "      <td>170.000000</td>\n",
       "      <td>3334.957039</td>\n",
       "      <td>16.700000</td>\n",
       "      <td>2017.000000</td>\n",
       "      <td>1.000000</td>\n",
       "      <td>16.707965</td>\n",
       "    </tr>\n",
       "    <tr>\n",
       "      <th>max</th>\n",
       "      <td>380.000000</td>\n",
       "      <td>13.000000</td>\n",
       "      <td>271.000000</td>\n",
       "      <td>4739.077089</td>\n",
       "      <td>24.300000</td>\n",
       "      <td>2023.000000</td>\n",
       "      <td>4.000000</td>\n",
       "      <td>25.967222</td>\n",
       "    </tr>\n",
       "  </tbody>\n",
       "</table>\n",
       "</div>"
      ],
      "text/plain": [
       "       engine_displacement  num_cylinders   horsepower  vehicle_weight  \\\n",
       "count          9704.000000    9222.000000  8996.000000     9704.000000   \n",
       "mean            199.708368       3.962481   149.657292     3001.280993   \n",
       "std              49.455319       1.999323    29.879555      497.894860   \n",
       "min              10.000000       0.000000    37.000000      952.681761   \n",
       "25%             170.000000       3.000000   130.000000     2666.248985   \n",
       "50%             200.000000       4.000000   149.000000     2993.226296   \n",
       "75%             230.000000       5.000000   170.000000     3334.957039   \n",
       "max             380.000000      13.000000   271.000000     4739.077089   \n",
       "\n",
       "       acceleration   model_year    num_doors  fuel_efficiency_mpg  \n",
       "count   8774.000000  9704.000000  9202.000000          9704.000000  \n",
       "mean      15.021928  2011.484027    -0.006412            14.985243  \n",
       "std        2.510339     6.659808     1.048162             2.556468  \n",
       "min        6.000000  2000.000000    -4.000000             6.200971  \n",
       "25%       13.300000  2006.000000    -1.000000            13.267459  \n",
       "50%       15.000000  2012.000000     0.000000            15.006037  \n",
       "75%       16.700000  2017.000000     1.000000            16.707965  \n",
       "max       24.300000  2023.000000     4.000000            25.967222  "
      ]
     },
     "execution_count": 6,
     "metadata": {},
     "output_type": "execute_result"
    }
   ],
   "source": [
    "import pandas as pd\n",
    "\n",
    "url = \"https://raw.githubusercontent.com/alexeygrigorev/datasets/master/car_fuel_efficiency.csv\"\n",
    "df = pd.read_csv(url)\n",
    "df.describe()"
   ]
  },
  {
   "cell_type": "code",
   "execution_count": 7,
   "id": "a371e975",
   "metadata": {},
   "outputs": [
    {
     "name": "stdout",
     "output_type": "stream",
     "text": [
      "Unique fuel types: ['Gasoline' 'Diesel']\n",
      "Number of fuel types: 2\n"
     ]
    }
   ],
   "source": [
    "# Get unique values in the fuel_type column\n",
    "unique_fuel_types = df['fuel_type'].unique()\n",
    "\n",
    "# Get the count of unique fuel types\n",
    "number_of_fuel_types = len(unique_fuel_types)\n",
    "\n",
    "print(\"Unique fuel types:\", unique_fuel_types)\n",
    "print(\"Number of fuel types:\", number_of_fuel_types)"
   ]
  },
  {
   "cell_type": "code",
   "execution_count": 8,
   "id": "896d68ed",
   "metadata": {},
   "outputs": [
    {
     "name": "stdout",
     "output_type": "stream",
     "text": [
      "Columns with missing values:\n",
      "num_cylinders    482\n",
      "horsepower       708\n",
      "acceleration     930\n",
      "num_doors        502\n",
      "dtype: int64\n",
      "\n",
      "Total number of columns with missing values: 4\n"
     ]
    }
   ],
   "source": [
    "# Count columns with missing values\n",
    "columns_with_nulls = df.isnull().sum()\n",
    "\n",
    "# Get only columns that have at least one missing value\n",
    "columns_with_nulls = columns_with_nulls[columns_with_nulls > 0]\n",
    "\n",
    "print(\"Columns with missing values:\")\n",
    "print(columns_with_nulls)\n",
    "print(\"\\nTotal number of columns with missing values:\", len(columns_with_nulls))"
   ]
  },
  {
   "cell_type": "code",
   "execution_count": 9,
   "id": "6a9ec719",
   "metadata": {},
   "outputs": [
    {
     "name": "stdout",
     "output_type": "stream",
     "text": [
      "Maximum fuel efficiency for cars from Asia: 23.76 mpg\n"
     ]
    }
   ],
   "source": [
    "# Filter for cars from Asia and find maximum fuel efficiency\n",
    "max_efficiency_asia = df[df['origin'] == 'Asia']['fuel_efficiency_mpg'].max()\n",
    "\n",
    "print(f\"Maximum fuel efficiency for cars from Asia: {max_efficiency_asia:.2f} mpg\")"
   ]
  },
  {
   "cell_type": "code",
   "execution_count": 10,
   "id": "abf63228",
   "metadata": {},
   "outputs": [
    {
     "name": "stdout",
     "output_type": "stream",
     "text": [
      "Median horsepower: 149.0\n"
     ]
    }
   ],
   "source": [
    "# Calculate median horsepower\n",
    "median_horsepower = df['horsepower'].median()\n",
    "\n",
    "print(f\"Median horsepower: {median_horsepower:.1f}\")"
   ]
  },
  {
   "cell_type": "code",
   "execution_count": 11,
   "id": "7edcbe61",
   "metadata": {},
   "outputs": [
    {
     "name": "stdout",
     "output_type": "stream",
     "text": [
      "Most frequent horsepower value(s): 152.0\n"
     ]
    }
   ],
   "source": [
    "# Calculate mode of horsepower\n",
    "mode_horsepower = df['horsepower'].mode()\n",
    "\n",
    "print(f\"Most frequent horsepower value(s): {mode_horsepower.values[0]}\")"
   ]
  },
  {
   "cell_type": "code",
   "execution_count": 12,
   "id": "a3fd7b91",
   "metadata": {},
   "outputs": [
    {
     "name": "stdout",
     "output_type": "stream",
     "text": [
      "Number of missing values in horsepower after filling: 0\n"
     ]
    }
   ],
   "source": [
    "# Get the mode value from earlier\n",
    "mode_value = df['horsepower'].mode().values[0]\n",
    "\n",
    "# Fill missing values in horsepower column with the mode\n",
    "df['horsepower'] = df['horsepower'].fillna(mode_value)\n",
    "\n",
    "# Verify there are no more missing values in horsepower column\n",
    "print(\"Number of missing values in horsepower after filling:\", df['horsepower'].isnull().sum())"
   ]
  },
  {
   "cell_type": "code",
   "execution_count": 13,
   "id": "88486272",
   "metadata": {},
   "outputs": [
    {
     "name": "stdout",
     "output_type": "stream",
     "text": [
      "Median horsepower after filling missing values: 152.0\n"
     ]
    }
   ],
   "source": [
    "# Calculate median horsepower after filling missing values\n",
    "median_horsepower_after = df['horsepower'].median()\n",
    "\n",
    "print(f\"Median horsepower after filling missing values: {median_horsepower_after:.1f}\")"
   ]
  },
  {
   "cell_type": "code",
   "execution_count": 14,
   "id": "a449b682",
   "metadata": {},
   "outputs": [
    {
     "name": "stdout",
     "output_type": "stream",
     "text": [
      "Cars from Asia:\n",
      "      engine_displacement  num_cylinders  horsepower  vehicle_weight  \\\n",
      "8                     250            1.0       174.0     2714.219310   \n",
      "12                    320            5.0       145.0     2783.868974   \n",
      "14                    200            6.0       160.0     3582.687368   \n",
      "20                    150            3.0       197.0     2231.808142   \n",
      "21                    160            4.0       133.0     2659.431451   \n",
      "...                   ...            ...         ...             ...   \n",
      "9688                  260            4.0       152.0     3948.404625   \n",
      "9692                  180            3.0       188.0     3680.341381   \n",
      "9693                  280            2.0       148.0     2545.070139   \n",
      "9698                  180            1.0       131.0     3107.427820   \n",
      "9703                  270            3.0       140.0     2908.043477   \n",
      "\n",
      "      acceleration  model_year origin fuel_type         drivetrain  num_doors  \\\n",
      "8             10.3        2016   Asia    Diesel  Front-wheel drive       -1.0   \n",
      "12            15.1        2010   Asia    Diesel    All-wheel drive        1.0   \n",
      "14            14.9        2007   Asia    Diesel    All-wheel drive        0.0   \n",
      "20            18.7        2011   Asia  Gasoline  Front-wheel drive        1.0   \n",
      "21             NaN        2016   Asia  Gasoline  Front-wheel drive       -1.0   \n",
      "...            ...         ...    ...       ...                ...        ...   \n",
      "9688          15.5        2018   Asia    Diesel    All-wheel drive       -1.0   \n",
      "9692          18.0        2016   Asia  Gasoline  Front-wheel drive        1.0   \n",
      "9693          15.6        2012   Asia    Diesel    All-wheel drive        0.0   \n",
      "9698          13.2        2005   Asia  Gasoline  Front-wheel drive       -2.0   \n",
      "9703          14.7        2005   Asia    Diesel    All-wheel drive       -1.0   \n",
      "\n",
      "      fuel_efficiency_mpg  \n",
      "8               16.823554  \n",
      "12              16.175820  \n",
      "14              11.871091  \n",
      "20              18.889083  \n",
      "21              16.077730  \n",
      "...                   ...  \n",
      "9688            11.054830  \n",
      "9692            11.711653  \n",
      "9693            17.202782  \n",
      "9698            13.933716  \n",
      "9703            14.884467  \n",
      "\n",
      "[3247 rows x 11 columns]\n",
      "\n",
      "Total number of cars from Asia: 3247\n"
     ]
    }
   ],
   "source": [
    "# Select cars from Asia\n",
    "asian_cars = df[df['origin'] == 'Asia']\n",
    "\n",
    "# Display the selected cars\n",
    "print(\"Cars from Asia:\")\n",
    "print(asian_cars)\n",
    "\n",
    "# Also show the count of Asian cars\n",
    "print(f\"\\nTotal number of cars from Asia: {len(asian_cars)}\")"
   ]
  },
  {
   "cell_type": "code",
   "execution_count": 15,
   "id": "4c99c356",
   "metadata": {},
   "outputs": [
    {
     "name": "stdout",
     "output_type": "stream",
     "text": [
      "Vehicle weights and model years:\n",
      "      vehicle_weight  model_year\n",
      "0        3413.433759        2003\n",
      "1        3149.664934        2007\n",
      "2        3079.038997        2018\n",
      "3        2542.392402        2009\n",
      "4        3460.870990        2009\n",
      "...              ...         ...\n",
      "9699     2981.107371        2013\n",
      "9700     2439.525729        2004\n",
      "9701     2583.471318        2008\n",
      "9702     2905.527390        2011\n",
      "9703     2908.043477        2005\n",
      "\n",
      "[9704 rows x 2 columns]\n",
      "\n",
      "Total number of cars: 9704\n"
     ]
    }
   ],
   "source": [
    "# Select specific columns for all cars\n",
    "selected_columns = df[['vehicle_weight', 'model_year']]\n",
    "\n",
    "# Display the selected columns\n",
    "print(\"Vehicle weights and model years:\")\n",
    "print(selected_columns)\n",
    "\n",
    "# Show the number of rows\n",
    "print(f\"\\nTotal number of cars: {len(selected_columns)}\")"
   ]
  },
  {
   "cell_type": "code",
   "execution_count": 16,
   "id": "2ecac08f",
   "metadata": {},
   "outputs": [
    {
     "name": "stdout",
     "output_type": "stream",
     "text": [
      "First 7 cars (vehicle weights and model years):\n",
      "   vehicle_weight  model_year\n",
      "0     3413.433759        2003\n",
      "1     3149.664934        2007\n",
      "2     3079.038997        2018\n",
      "3     2542.392402        2009\n",
      "4     3460.870990        2009\n",
      "5     2484.883986        2008\n",
      "6     3006.542287        2012\n"
     ]
    }
   ],
   "source": [
    "# Select first 7 rows from the selected columns\n",
    "first_seven = selected_columns.head(7)\n",
    "\n",
    "# Display the first 7 rows\n",
    "print(\"First 7 cars (vehicle weights and model years):\")\n",
    "print(first_seven)"
   ]
  },
  {
   "cell_type": "code",
   "execution_count": 17,
   "id": "a18d6636",
   "metadata": {},
   "outputs": [
    {
     "name": "stdout",
     "output_type": "stream",
     "text": [
      "Array shape: (9704, 2)\n",
      "\n",
      "Array contents:\n",
      "[[3413.43375861 2003.        ]\n",
      " [3149.66493422 2007.        ]\n",
      " [3079.03899737 2018.        ]\n",
      " ...\n",
      " [2583.47131761 2008.        ]\n",
      " [2905.52738998 2011.        ]\n",
      " [2908.04347736 2005.        ]]\n"
     ]
    }
   ],
   "source": [
    "# Convert DataFrame to NumPy array\n",
    "X = selected_columns.values\n",
    "\n",
    "# Display the array shape and contents\n",
    "print(\"Array shape:\", X.shape)\n",
    "print(\"\\nArray contents:\")\n",
    "print(X)"
   ]
  },
  {
   "cell_type": "code",
   "execution_count": 24,
   "id": "9d02f24a",
   "metadata": {},
   "outputs": [
    {
     "name": "stdout",
     "output_type": "stream",
     "text": [
      "Shape of XTX: (2, 2)\n",
      "\n",
      "Matrix multiplication result (X.T @ X):\n",
      "[[8.98159673e+10 5.85831378e+10]\n",
      " [5.85831378e+10 3.92634741e+10]]\n"
     ]
    }
   ],
   "source": [
    "# Compute matrix multiplication of X transpose and X\n",
    "XTX = X.T @ X\n",
    "\n",
    "# Display the result\n",
    "print(\"Shape of XTX:\", XTX.shape)\n",
    "print(\"\\nMatrix multiplication result (X.T @ X):\")\n",
    "print(XTX)"
   ]
  },
  {
   "cell_type": "code",
   "execution_count": 20,
   "id": "8e70f18f",
   "metadata": {},
   "outputs": [
    {
     "name": "stdout",
     "output_type": "stream",
     "text": [
      "Shape of XTX_inv: (2, 2)\n",
      "\n",
      "Inverse matrix (XTX_inv):\n",
      "[[ 4.15473853e-10 -6.19908516e-10]\n",
      " [-6.19908516e-10  9.50404590e-10]]\n"
     ]
    }
   ],
   "source": [
    "# Compute the inverse of XTX\n",
    "XTX_inv = np.linalg.inv(XTX)\n",
    "\n",
    "# Display the result\n",
    "print(\"Shape of XTX_inv:\", XTX_inv.shape)\n",
    "print(\"\\nInverse matrix (XTX_inv):\")\n",
    "print(XTX_inv)"
   ]
  },
  {
   "cell_type": "code",
   "execution_count": 21,
   "id": "eca8ef24",
   "metadata": {},
   "outputs": [
    {
     "name": "stdout",
     "output_type": "stream",
     "text": [
      "Array y:\n",
      "[1100 1300  800  900 1000 1100 1200]\n",
      "\n",
      "Shape of y: (7,)\n"
     ]
    }
   ],
   "source": [
    "# Create array y with given values\n",
    "y = np.array([1100, 1300, 800, 900, 1000, 1100, 1200])\n",
    "\n",
    "# Display the array\n",
    "print(\"Array y:\")\n",
    "print(y)\n",
    "\n",
    "# Show the shape of the array\n",
    "print(\"\\nShape of y:\", y.shape)"
   ]
  },
  {
   "cell_type": "code",
   "execution_count": 31,
   "id": "667a0c70",
   "metadata": {},
   "outputs": [
    {
     "name": "stdout",
     "output_type": "stream",
     "text": [
      "Shape of w: (2,)\n",
      "\n",
      "Weight vector w:\n",
      "[0.07099685 0.41931263]\n"
     ]
    }
   ],
   "source": [
    "# Use first 7 rows of X to match y dimensions\n",
    "X = first_seven.values\n",
    "\n",
    "# Recompute XTX with the 7 rows\n",
    "XTX = X.T @ X\n",
    "\n",
    "# Recompute inverse\n",
    "XTX_inv = np.linalg.inv(XTX)\n",
    "\n",
    "# Now compute w with matching dimensions\n",
    "w = XTX_inv @ X.T @ y\n",
    "\n",
    "# Display the result\n",
    "print(\"Shape of w:\", w.shape)\n",
    "print(\"\\nWeight vector w:\")\n",
    "print(w)"
   ]
  },
  {
   "cell_type": "code",
   "execution_count": 32,
   "id": "f2f68512",
   "metadata": {},
   "outputs": [
    {
     "name": "stdout",
     "output_type": "stream",
     "text": [
      "Sum of weights: 0.490309\n"
     ]
    }
   ],
   "source": [
    "# Calculate sum of weights\n",
    "w_sum = w.sum()\n",
    "\n",
    "print(f\"Sum of weights: {w_sum:.6f}\")"
   ]
  }
 ],
 "metadata": {
  "kernelspec": {
   "display_name": "ml-zoomcamp",
   "language": "python",
   "name": "python3"
  },
  "language_info": {
   "codemirror_mode": {
    "name": "ipython",
    "version": 3
   },
   "file_extension": ".py",
   "mimetype": "text/x-python",
   "name": "python",
   "nbconvert_exporter": "python",
   "pygments_lexer": "ipython3",
   "version": "3.11.13"
  }
 },
 "nbformat": 4,
 "nbformat_minor": 5
}
