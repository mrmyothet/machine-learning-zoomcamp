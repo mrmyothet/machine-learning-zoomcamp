{
 "cells": [
  {
   "cell_type": "code",
   "execution_count": 25,
   "id": "ef7805cf",
   "metadata": {},
   "outputs": [],
   "source": [
    "import numpy as np\n",
    "import pandas as pd"
   ]
  },
  {
   "cell_type": "code",
   "execution_count": 26,
   "id": "278f47ab",
   "metadata": {},
   "outputs": [],
   "source": [
    "X = [\n",
    "  [148, 24, 1385], \n",
    "  [132, 25, 2031], \n",
    "  [453, 11, 86], \n",
    "  [148, 24, 1385], \n",
    "  [132, 25, 2031], \n",
    "  [453, 11, 86], \n",
    "  [148, 24, 1385], \n",
    "  [132, 25, 2031], \n",
    "  [453, 11, 86], \n",
    "]\n",
    "\n",
    "X = np.array(X)\n",
    "X\n",
    "\n",
    "y = [245, 312, 279, 245, 312, 279, 245, 312, 279]\n",
    "y = np.array(y)"
   ]
  },
  {
   "cell_type": "code",
   "execution_count": 27,
   "id": "fdbf0a5d",
   "metadata": {},
   "outputs": [
    {
     "data": {
      "text/plain": [
       "array([[1.000e+00, 1.480e+02, 2.400e+01, 1.385e+03],\n",
       "       [1.000e+00, 1.320e+02, 2.500e+01, 2.031e+03],\n",
       "       [1.000e+00, 4.530e+02, 1.100e+01, 8.600e+01],\n",
       "       [1.000e+00, 1.480e+02, 2.400e+01, 1.385e+03],\n",
       "       [1.000e+00, 1.320e+02, 2.500e+01, 2.031e+03],\n",
       "       [1.000e+00, 4.530e+02, 1.100e+01, 8.600e+01],\n",
       "       [1.000e+00, 1.480e+02, 2.400e+01, 1.385e+03],\n",
       "       [1.000e+00, 1.320e+02, 2.500e+01, 2.031e+03],\n",
       "       [1.000e+00, 4.530e+02, 1.100e+01, 8.600e+01]])"
      ]
     },
     "execution_count": 27,
     "metadata": {},
     "output_type": "execute_result"
    }
   ],
   "source": [
    "ones = np.ones(X.shape[0])\n",
    "X = np.column_stack([ones, X])\n",
    "X"
   ]
  },
  {
   "cell_type": "code",
   "execution_count": 28,
   "id": "b397c4f2",
   "metadata": {},
   "outputs": [
    {
     "data": {
      "text/plain": [
       "array([[9.0000000e+00, 2.1990000e+03, 1.8000000e+02, 1.0506000e+04],\n",
       "       [2.1990000e+03, 7.3361100e+05, 3.5505000e+04, 1.5360900e+06],\n",
       "       [1.8000000e+02, 3.5505000e+04, 3.9660000e+03, 2.5488300e+05],\n",
       "       [1.0506000e+04, 1.5360900e+06, 2.5488300e+05, 1.8151746e+07]])"
      ]
     },
     "execution_count": 28,
     "metadata": {},
     "output_type": "execute_result"
    }
   ],
   "source": [
    "XTX = X.T.dot(X)\n",
    "XTX"
   ]
  },
  {
   "cell_type": "code",
   "execution_count": 29,
   "id": "23e7add7",
   "metadata": {},
   "outputs": [
    {
     "data": {
      "text/plain": [
       "array([[ 9.72219731e+14, -1.34113970e+12, -3.32963104e+13,\n",
       "         1.83251938e+10],\n",
       "       [-1.34113970e+12,  1.85005059e+09,  4.59309786e+10,\n",
       "        -2.52788995e+07],\n",
       "       [-3.32963104e+13,  4.59309786e+10,  1.14032276e+12,\n",
       "        -6.27596130e+08],\n",
       "       [ 1.83251938e+10, -2.52788995e+07, -6.27596130e+08,\n",
       "         3.45408262e+05]])"
      ]
     },
     "execution_count": 29,
     "metadata": {},
     "output_type": "execute_result"
    }
   ],
   "source": [
    "XTX_inv = np.linalg.inv(XTX)\n",
    "XTX_inv"
   ]
  },
  {
   "cell_type": "code",
   "execution_count": 30,
   "id": "e7668841",
   "metadata": {},
   "outputs": [
    {
     "data": {
      "text/plain": [
       "array([[ 1.65982819e+00,  9.13172960e-04,  4.50365543e-02,\n",
       "        -3.55443917e-05],\n",
       "       [ 2.39609352e+02,  9.74233419e-01,  4.95376039e+00,\n",
       "        -4.99057909e-03],\n",
       "       [ 2.17351799e+01, -2.04397589e-02,  9.10191417e-01,\n",
       "         1.32609857e-04],\n",
       "       [ 2.12983772e+02, -3.06521356e-02,  1.78298829e+01,\n",
       "         9.67719041e-01]])"
      ]
     },
     "execution_count": 30,
     "metadata": {},
     "output_type": "execute_result"
    }
   ],
   "source": [
    "XTX.dot(XTX_inv)"
   ]
  },
  {
   "cell_type": "code",
   "execution_count": 31,
   "id": "d7fe8d83",
   "metadata": {},
   "outputs": [
    {
     "data": {
      "text/plain": [
       "array([[ 1.6600e+00,  0.0000e+00,  5.0000e-02, -0.0000e+00],\n",
       "       [ 2.3961e+02,  9.7000e-01,  4.9500e+00, -0.0000e+00],\n",
       "       [ 2.1740e+01, -2.0000e-02,  9.1000e-01,  0.0000e+00],\n",
       "       [ 2.1298e+02, -3.0000e-02,  1.7830e+01,  9.7000e-01]])"
      ]
     },
     "execution_count": 31,
     "metadata": {},
     "output_type": "execute_result"
    }
   ],
   "source": [
    "XTX.dot(XTX_inv).round(2)"
   ]
  },
  {
   "cell_type": "code",
   "execution_count": 34,
   "id": "ae7a06ff",
   "metadata": {},
   "outputs": [
    {
     "data": {
      "text/plain": [
       "array([ 6.17220772e+02, -9.54577066e-02, -1.35931996e+01,  1.21559042e-01])"
      ]
     },
     "execution_count": 34,
     "metadata": {},
     "output_type": "execute_result"
    }
   ],
   "source": [
    "\n",
    "w_full = XTX_inv.dot(X.T).dot(y)\n",
    "w_full"
   ]
  },
  {
   "cell_type": "code",
   "execution_count": 35,
   "id": "5f7ca2de",
   "metadata": {},
   "outputs": [
    {
     "data": {
      "text/plain": [
       "(np.float64(617.2207717895508),\n",
       " array([ -0.09545771, -13.59319961,   0.12155904]))"
      ]
     },
     "execution_count": 35,
     "metadata": {},
     "output_type": "execute_result"
    }
   ],
   "source": [
    "w0 = w_full[0]\n",
    "w = w_full[1:]\n",
    "w0, w"
   ]
  },
  {
   "cell_type": "code",
   "execution_count": 38,
   "id": "8e42dab2",
   "metadata": {},
   "outputs": [],
   "source": [
    "def train_linear_regression(X, y):\n",
    "  ones = np.ones(X.shape[0])\n",
    "  X = np.column_stack([ones, X])\n",
    "\n",
    "  XTX = X.T.dot(X)\n",
    "  XTX_inv = np.linalg.inv(XTX)\n",
    "  w_full = XTX_inv.dot(X.T).dot(y)\n",
    "  \n",
    "  w0 = w_full[0]\n",
    "  w = w_full[1:]\n",
    "  return w0, w"
   ]
  },
  {
   "cell_type": "code",
   "execution_count": 40,
   "id": "55fc03f8",
   "metadata": {},
   "outputs": [
    {
     "data": {
      "text/plain": [
       "(np.float64(617.2207717895508),\n",
       " array([ -0.09545771, -13.59319961,   0.12155904]))"
      ]
     },
     "execution_count": 40,
     "metadata": {},
     "output_type": "execute_result"
    }
   ],
   "source": [
    "X = [\n",
    "  [148, 24, 1385], \n",
    "  [132, 25, 2031], \n",
    "  [453, 11, 86], \n",
    "  [148, 24, 1385], \n",
    "  [132, 25, 2031], \n",
    "  [453, 11, 86], \n",
    "  [148, 24, 1385], \n",
    "  [132, 25, 2031], \n",
    "  [453, 11, 86], \n",
    "]\n",
    "\n",
    "X = np.array(X)\n",
    "X\n",
    "\n",
    "\n",
    "y = [245, 312, 279, 245, 312, 279, 245, 312, 279]\n",
    "y = np.array(y)\n",
    "\n",
    "train_linear_regression(X, y)"
   ]
  }
 ],
 "metadata": {
  "kernelspec": {
   "display_name": "3.11.13",
   "language": "python",
   "name": "python3"
  },
  "language_info": {
   "codemirror_mode": {
    "name": "ipython",
    "version": 3
   },
   "file_extension": ".py",
   "mimetype": "text/x-python",
   "name": "python",
   "nbconvert_exporter": "python",
   "pygments_lexer": "ipython3",
   "version": "3.11.13"
  }
 },
 "nbformat": 4,
 "nbformat_minor": 5
}
